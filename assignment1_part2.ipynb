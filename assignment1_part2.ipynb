{
 "cells": [
  {
   "cell_type": "markdown",
   "id": "ee6fc45a-6c11-4115-ab14-03f47eb15600",
   "metadata": {},
   "source": [
    "SUPERVISED LEARNING: Both input and output are provided, it learns from them and than uses that knowledge to predict output of new inputs. For example the rank predictors of various institutes during JEE is based on supervised learning. \\n\n",
    "UNSUPERVISED LEARNING: Only input is provided, from those inputs it makes groups and does further and further classifications. From them it tries to learn and generate output.For example a child sees the world and classifies all it sees into, living, nonliving, humans, animal, trees, etc. \\n\n",
    "REINCEFORCEMENT LEARNING: It is like the learner does some action on the surrondings and as a result he gets response, good or bad and from that it decides which steps should it take. For example in Table tennis, we do a serve and based on how the opponent receieves it, we decide whether to use it or not in future. \\n"
   ]
  },
  {
   "cell_type": "markdown",
   "id": "438c4e4c-da8b-4f0d-a623-b493e7024c2a",
   "metadata": {},
   "source": [
    "MACHINE LEARNING: It basically provides us statistical tools to analyse data and explore new things.\n",
    "DEEP LEARNING: It is subset of machine learning. It resembles how human brain learns things. it basically has more layers between input and output than classical machine learning."
   ]
  },
  {
   "cell_type": "code",
   "execution_count": 5,
   "id": "4ecad423-5ca2-4320-b366-4662977a1042",
   "metadata": {},
   "outputs": [
    {
     "name": "stdin",
     "output_type": "stream",
     "text": [
      " 1234321\n"
     ]
    },
    {
     "name": "stdout",
     "output_type": "stream",
     "text": [
      "yes\n"
     ]
    }
   ],
   "source": [
    "def is_palindrome(n):\n",
    "    newstr = str(n)\n",
    "    if newstr == newstr[::-1] :\n",
    "       return True\n",
    "    else:\n",
    "       return False\n",
    "\n",
    "n = int(input())\n",
    "if is_palindrome(n):\n",
    "    print(\"yes\")\n",
    "\n",
    "else:\n",
    "    print(\"no\")"
   ]
  },
  {
   "cell_type": "code",
   "execution_count": 10,
   "id": "238a8459-4dcc-48d7-aa57-7f8a6ad54f30",
   "metadata": {},
   "outputs": [
    {
     "name": "stdout",
     "output_type": "stream",
     "text": [
      "Random Array: [66 16 98 62 56 18 46 47 72 14]\n",
      "Mean: 49.5\n",
      "Minimum: 14\n",
      "Maximum: 98\n"
     ]
    }
   ],
   "source": [
    "import numpy as np\n",
    "\n",
    "rand_arr = np.random.randint(2, 100, size=10)\n",
    "\n",
    "mean_value = np.mean(rand_arr)\n",
    "min_value = np.min(rand_arr)\n",
    "max_value = np.max(rand_arr)\n",
    "\n",
    "print(\"Random Array:\", rand_arr)\n",
    "print(\"Mean:\", mean_value)\n",
    "print(\"Minimum:\", min_value)\n",
    "print(\"Maximum:\", max_value)"
   ]
  },
  {
   "cell_type": "code",
   "execution_count": 51,
   "id": "12c1edbd-8a5e-4752-ba0c-fce683aa1604",
   "metadata": {},
   "outputs": [
    {
     "name": "stdout",
     "output_type": "stream",
     "text": [
      "        Name  Age       City\n",
      "0       Omar   98  Ahemdabad\n",
      "1    Allison   36     Mumbai\n",
      "2     Daniel   16     Nashik\n",
      "3    Leonard   99     Baroda\n",
      "4    Caitlin   38  Ahemdabad\n",
      "..       ...  ...        ...\n",
      "95    Martin   13   Jamnagar\n",
      "96     Julie   19     Mumbai\n",
      "97   Matthew   12   Jamnagar\n",
      "98  Jeanette   37  Bhavnagar\n",
      "99    Travis   20   Jamnagar\n",
      "\n",
      "[100 rows x 3 columns]\n",
      "        Name  Age       City\n",
      "0       Omar   98  Ahemdabad\n",
      "1    Allison   36     Mumbai\n",
      "3    Leonard   99     Baroda\n",
      "4    Caitlin   38  Ahemdabad\n",
      "5       Sara   79      Kutch\n",
      "..       ...  ...        ...\n",
      "89   Stephen   72     Mumbai\n",
      "92    Alison   43  Bhavnagar\n",
      "93    Alexis   51       Pune\n",
      "94    Robert   40      Anand\n",
      "98  Jeanette   37  Bhavnagar\n",
      "\n",
      "[65 rows x 3 columns]\n",
      "        Name  Age       City  Salary\n",
      "0       Omar   98  Ahemdabad   50000\n",
      "1    Allison   36     Mumbai   60000\n",
      "2     Daniel   16     Nashik   50000\n",
      "3    Leonard   99     Baroda   50000\n",
      "4    Caitlin   38  Ahemdabad   50000\n",
      "..       ...  ...        ...     ...\n",
      "95    Martin   13   Jamnagar   50000\n",
      "96     Julie   19     Mumbai   50000\n",
      "97   Matthew   12   Jamnagar   70000\n",
      "98  Jeanette   37  Bhavnagar   70000\n",
      "99    Travis   20   Jamnagar   60000\n",
      "\n",
      "[100 rows x 4 columns]\n",
      "                 Age\n",
      "City                \n",
      "Ahemdabad  49.333333\n",
      "Anand      28.615385\n",
      "Baroda     56.200000\n",
      "Bhavnagar  46.777778\n",
      "Jamnagar   29.222222\n",
      "Junagadh   71.625000\n",
      "Kutch      63.142857\n",
      "Mumbai     42.400000\n",
      "Nashik     45.250000\n",
      "Pune       41.375000\n",
      "Surat      53.428571\n",
      "Valsad     45.000000\n"
     ]
    },
    {
     "data": {
      "image/png": "[encoded data removed]",
      "text/plain": [
       "<Figure size 1600x600 with 1 Axes>"
      ]
     },
     "metadata": {},
     "output_type": "display_data"
    }
   ],
   "source": [
    "import pandas as pd\n",
    "import numpy as np\n",
    "from faker import Faker\n",
    "import matplotlib.pyplot as plt\n",
    "\n",
    "fake = Faker()\n",
    "city_list = ['Bhavnagar', 'Ahemdabad', 'Mumbai', 'Baroda', 'Surat','Jamnagar', 'Anand', 'Valsad', 'Kutch', 'Junagadh','Pune', 'Nashik']\n",
    "\n",
    "names = [fake.first_name() for _ in range(100)]\n",
    "ages = np.random.randint(1, 100, size=100)\n",
    "cities = np.random.choice(city_list, size=100)\n",
    "\n",
    "data = {\n",
    "    'Name': names,\n",
    "    'Age': ages,\n",
    "    'City': cities\n",
    "}\n",
    "df = pd.DataFrame(data)\n",
    "print(df)\n",
    "\n",
    "filtered_df = df[df['Age'] > 30]\n",
    "print(filtered_df)\n",
    "\n",
    "df = df.assign(Salary=salaries)\n",
    "print(df)\n",
    "\n",
    "grouped_df = df.groupby('City').agg({'Age': 'mean'})\n",
    "print(grouped_df)\n",
    "\n",
    "grouped_df = grouped_df.reset_index()\n",
    "plt.figure(figsize=(16, 6))\n",
    "plt.plot(grouped_df['City'], grouped_df['Age'], 'o')\n",
    "plt.show()"
   ]
  }
 ],
 "metadata": {
  "kernelspec": {
   "display_name": "Python 3 (ipykernel)",
   "language": "python",
   "name": "python3"
  },
  "language_info": {
   "codemirror_mode": {
    "name": "ipython",
    "version": 3
   },
   "file_extension": ".py",
   "mimetype": "text/x-python",
   "name": "python",
   "nbconvert_exporter": "python",
   "pygments_lexer": "ipython3",
   "version": "3.12.3"
  }
 },
 "nbformat": 4,
 "nbformat_minor": 5
}
