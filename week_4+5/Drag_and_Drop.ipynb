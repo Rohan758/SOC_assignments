{
 "cells": [
  {
   "cell_type": "code",
   "execution_count": null,
   "id": "aafad8c4-0d19-4d12-a819-c72935e5f7b8",
   "metadata": {},
   "outputs": [
    {
     "name": "stderr",
     "output_type": "stream",
     "text": [
      "C:\\Users\\rohan\\AppData\\Local\\Programs\\Python\\Python312\\Lib\\site-packages\\google\\protobuf\\symbol_database.py:55: UserWarning: SymbolDatabase.GetPrototype() is deprecated. Please use message_factory.GetMessageClass() instead. SymbolDatabase.GetPrototype() will be removed soon.\n",
      "  warnings.warn('SymbolDatabase.GetPrototype() is deprecated. Please '\n"
     ]
    }
   ],
   "source": [
    "import cv2\n",
    "import mediapipe as mp\n",
    "import numpy as np\n",
    "\n",
    "\n",
    "mp_hands = mp.solutions.hands\n",
    "hands = mp_hands.Hands(\n",
    "    max_num_hands=2,\n",
    "    min_detection_confidence=0.7,\n",
    "    min_tracking_confidence=0.7)\n",
    "mp_drawing = mp.solutions.drawing_utils\n",
    "\n",
    "cap = cv2.VideoCapture(0)\n",
    "\n",
    "image_path = 'image.png'\n",
    "drag_image = cv2.imread(image_path)\n",
    "\n",
    "frame_width = int(cap.get(cv2.CAP_PROP_FRAME_WIDTH))\n",
    "frame_height = int(cap.get(cv2.CAP_PROP_FRAME_HEIGHT))\n",
    "\n",
    "resize_factor = 2 / 5\n",
    "image_width = int(frame_width * resize_factor)\n",
    "image_height = int(frame_height * resize_factor)\n",
    "drag_image = cv2.resize(drag_image, (image_width, image_height))\n",
    "\n",
    "image_pos = [0, 0]\n",
    "\n",
    "def calculate_distance(point1, point2):\n",
    "    return np.linalg.norm(np.array(point1) - np.array(point2))\n",
    "\n",
    "while cap.isOpened():\n",
    "    ret, frame = cap.read()\n",
    "    if not ret:\n",
    "        break\n",
    "\n",
    "    frame = cv2.cvtColor(cv2.flip(frame, 1), cv2.COLOR_BGR2RGB)\n",
    "    \n",
    "    frame_rgb = cv2.cvtColor(frame, cv2.COLOR_BGR2RGB)\n",
    "\n",
    "    results = hands.process(frame_rgb)\n",
    "\n",
    "    if results.multi_hand_landmarks:\n",
    "        for hand_landmarks in results.multi_hand_landmarks:\n",
    "            mp_drawing.draw_landmarks(frame, hand_landmarks, mp_hands.HAND_CONNECTIONS)\n",
    "\n",
    "            index_finger_tip = hand_landmarks.landmark[mp_hands.HandLandmark.INDEX_FINGER_TIP]\n",
    "            thumb_tip = hand_landmarks.landmark[mp_hands.HandLandmark.THUMB_TIP]\n",
    "            h, w, _ = frame.shape\n",
    "            index_finger_pos = (int(index_finger_tip.x * w), int(index_finger_tip.y * h))\n",
    "            thumb_pos = (int(thumb_tip.x * w), int(thumb_tip.y * h))\n",
    "\n",
    "            length = calculate_distance(index_finger_pos, thumb_pos)\n",
    "\n",
    "            if length < 20:\n",
    "                image_pos = [index_finger_pos[0] - image_width // 2, index_finger_pos[1] - image_height // 2]\n",
    "\n",
    "    image_pos[0] = max(0, min(image_pos[0], frame.shape[1] - image_width))\n",
    "    image_pos[1] = max(0, min(image_pos[1], frame.shape[0] - image_height))\n",
    "\n",
    "    overlay = frame.copy()\n",
    "    overlay[image_pos[1]:image_pos[1] + image_height, image_pos[0]:image_pos[0] + image_width] = drag_image\n",
    "    alpha = 0.7\n",
    "    frame = cv2.addWeighted(overlay, alpha, frame, 1 - alpha, 0)\n",
    "\n",
    "    cv2.imshow('Drag and Drop', frame)\n",
    "\n",
    "    if cv2.waitKey(1) & 0xFF == 27:\n",
    "        break\n",
    "\n",
    "cap.release()\n",
    "cv2.destroyAllWindows()\n"
   ]
  },
  {
   "cell_type": "code",
   "execution_count": null,
   "id": "2d32bd4f-dd5e-402b-8f4b-9fc4b77db866",
   "metadata": {},
   "outputs": [],
   "source": []
  }
 ],
 "metadata": {
  "kernelspec": {
   "display_name": "Python 3 (ipykernel)",
   "language": "python",
   "name": "python3"
  },
  "language_info": {
   "codemirror_mode": {
    "name": "ipython",
    "version": 3
   },
   "file_extension": ".py",
   "mimetype": "text/x-python",
   "name": "python",
   "nbconvert_exporter": "python",
   "pygments_lexer": "ipython3",
   "version": "3.12.3"
  }
 },
 "nbformat": 4,
 "nbformat_minor": 5
}
